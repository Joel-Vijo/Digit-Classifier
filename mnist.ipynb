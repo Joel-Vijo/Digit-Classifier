{
  "nbformat": 4,
  "nbformat_minor": 0,
  "metadata": {
    "colab": {
      "name": "mnist.ipynb",
      "provenance": [],
      "authorship_tag": "ABX9TyOSY/sCiZIPGNYKX6yBGk/x",
      "include_colab_link": true
    },
    "kernelspec": {
      "name": "python3",
      "display_name": "Python 3"
    },
    "language_info": {
      "name": "python"
    },
    "accelerator": "GPU"
  },
  "cells": [
    {
      "cell_type": "markdown",
      "metadata": {
        "id": "view-in-github",
        "colab_type": "text"
      },
      "source": [
        "<a href=\"https://colab.research.google.com/github/Joel-Vijo/Digit-Classifier/blob/main/mnist.ipynb\" target=\"_parent\"><img src=\"https://colab.research.google.com/assets/colab-badge.svg\" alt=\"Open In Colab\"/></a>"
      ]
    },
    {
      "cell_type": "code",
      "execution_count": null,
      "metadata": {
        "id": "hv7FJuAImvrE"
      },
      "outputs": [],
      "source": [
        "import numpy as np\n",
        "import matplotlib.pyplot as plt\n",
        "import torch\n",
        "import torch.nn as nn\n",
        "import torchvision\n",
        "import torchvision.transforms as transforms\n",
        "import torch.utils.data as dt\n",
        "import pickle as cPickle\n",
        "import gzip\n",
        "import cv2\n",
        "from torch.utils.data import Dataset, DataLoader"
      ]
    },
    {
      "cell_type": "code",
      "source": [
        "num_epochs = 5\n",
        "num_classes = 10\n",
        "batch_size = 128\n",
        "learning_rate = 0.001\n",
        "DATA_PATH = 'C:\\\\Users\\Andy\\PycharmProjects\\MNISTData'\n",
        "MODEL_STORE_PATH = 'C:\\\\Users\\Andy\\PycharmProjects\\pytorch_models\\\\'"
      ],
      "metadata": {
        "id": "35RysKw9nGPV"
      },
      "execution_count": null,
      "outputs": []
    },
    {
      "cell_type": "code",
      "source": [
        "# transforms to apply to the data\n",
        "trans = transforms.Compose([transforms.ToTensor(), transforms.Normalize((0.1307,), (0.3081,))])\n",
        "\n",
        "# MNIST dataset\n",
        "train_dataset = torchvision.datasets.MNIST(root=DATA_PATH, train=True, transform=trans, download=True)\n",
        "test_dataset = torchvision.datasets.MNIST(root=DATA_PATH, train=False, transform=trans)"
      ],
      "metadata": {
        "id": "j8YW5DlkoQ7E"
      },
      "execution_count": null,
      "outputs": []
    },
    {
      "cell_type": "code",
      "source": [
        "train_loader = DataLoader(dataset=train_dataset, batch_size=batch_size, shuffle=True)\n",
        "test_loader = DataLoader(dataset=test_dataset, batch_size=batch_size, shuffle=False)\n",
        "print(len(train_dataset))"
      ],
      "metadata": {
        "colab": {
          "base_uri": "https://localhost:8080/"
        },
        "id": "ytPrfcjMo_mA",
        "outputId": "de2cf1eb-5350-490e-a573-28238925b335"
      },
      "execution_count": null,
      "outputs": [
        {
          "output_type": "stream",
          "name": "stdout",
          "text": [
            "60000\n"
          ]
        }
      ]
    },
    {
      "cell_type": "code",
      "source": [
        "class ConvNet(nn.Module):\n",
        "    def __init__(self):\n",
        "        super(ConvNet,self).__init__()\n",
        "\n",
        "        self.layer1 = nn.Sequential(\n",
        "            nn.Conv2d(1,32, 5, 1, padding = 2),\n",
        "            torch.nn.ReLU(),\n",
        "            nn.MaxPool2d(kernel_size=2, stride=2)\n",
        "        )\n",
        "\n",
        "        self.layer2 = nn.Sequential(\n",
        "            nn.Conv2d(32, 64, 5, 1, padding=2),\n",
        "            torch.nn.ReLU(),\n",
        "            nn.MaxPool2d(2, 2)\n",
        "        )\n",
        "\n",
        "        self.dropout = nn.Dropout()\n",
        "\n",
        "        self.fc1 = nn.Linear(7*7*64, 1000)\n",
        "        self.fc2 = nn.Linear(1000, 10)\n",
        "\n",
        "\n",
        "    def forward(self, x):\n",
        "        out = self.layer1(x)\n",
        "        out = self.layer2(out)\n",
        "        # print(out.shape)\n",
        "        out = out.reshape((-1,64*7*7))\n",
        "        # print(out.shape)\n",
        "        out = self.dropout(out)\n",
        "        out = self.fc1(out)\n",
        "        out = self.fc2(out)\n",
        "\n",
        "        return out"
      ],
      "metadata": {
        "id": "RN9pcnDTpdM-"
      },
      "execution_count": null,
      "outputs": []
    },
    {
      "cell_type": "code",
      "source": [
        "model = ConvNet()\n",
        "\n",
        "# Loss and optimizer\n",
        "criterion = nn.CrossEntropyLoss()\n",
        "optimizer = torch.optim.Adam(model.parameters(), lr=learning_rate)"
      ],
      "metadata": {
        "id": "5NFntwaypzCV"
      },
      "execution_count": null,
      "outputs": []
    },
    {
      "cell_type": "code",
      "source": [
        "# Train the model\n",
        "total_step = len(train_loader)\n",
        "loss_list = []\n",
        "acc_list = []\n",
        "for epoch in range(num_epochs):\n",
        "    for i, (images, labels) in enumerate(train_loader):\n",
        "        outputs = model(images)\n",
        "        loss = criterion(outputs, labels)\n",
        "        loss_list.append(loss.item())\n",
        "\n",
        "        # Backprop and perform Adam optimisation\n",
        "        optimizer.zero_grad()\n",
        "        loss.backward()\n",
        "        optimizer.step()\n",
        "\n",
        "        # Track the accuracy\n",
        "        total = labels.size(0)\n",
        "        _, predicted = torch.max(outputs.data, 1)\n",
        "        correct = (predicted == labels).sum().item()\n",
        "        acc_list.append(correct / total)\n",
        "\n",
        "        if (i + 1) % 100 == 0:\n",
        "            print('Epoch [{}/{}], Step [{}/{}], Loss: {:.4f}, Accuracy: {:.2f}%'\n",
        "                  .format(epoch + 1, num_epochs, i + 1, total_step, loss.item(),\n",
        "                          (correct / total) * 100))"
      ],
      "metadata": {
        "colab": {
          "base_uri": "https://localhost:8080/"
        },
        "id": "duna0bQPp3xN",
        "outputId": "200e65f7-e228-44c9-90e3-fd2a4a70d59f"
      },
      "execution_count": null,
      "outputs": [
        {
          "output_type": "stream",
          "name": "stdout",
          "text": [
            "Epoch [1/5], Step [100/469], Loss: 0.1635, Accuracy: 96.09%\n",
            "Epoch [1/5], Step [200/469], Loss: 0.1570, Accuracy: 94.53%\n",
            "Epoch [1/5], Step [300/469], Loss: 0.0825, Accuracy: 98.44%\n",
            "Epoch [1/5], Step [400/469], Loss: 0.0947, Accuracy: 96.88%\n",
            "Epoch [2/5], Step [100/469], Loss: 0.0229, Accuracy: 100.00%\n",
            "Epoch [2/5], Step [200/469], Loss: 0.0412, Accuracy: 98.44%\n",
            "Epoch [2/5], Step [300/469], Loss: 0.0896, Accuracy: 97.66%\n",
            "Epoch [2/5], Step [400/469], Loss: 0.0929, Accuracy: 96.09%\n",
            "Epoch [3/5], Step [100/469], Loss: 0.1050, Accuracy: 96.09%\n",
            "Epoch [3/5], Step [200/469], Loss: 0.0145, Accuracy: 100.00%\n",
            "Epoch [3/5], Step [300/469], Loss: 0.0708, Accuracy: 97.66%\n",
            "Epoch [3/5], Step [400/469], Loss: 0.0408, Accuracy: 99.22%\n",
            "Epoch [4/5], Step [100/469], Loss: 0.0500, Accuracy: 98.44%\n",
            "Epoch [4/5], Step [200/469], Loss: 0.0411, Accuracy: 98.44%\n",
            "Epoch [4/5], Step [300/469], Loss: 0.0352, Accuracy: 98.44%\n",
            "Epoch [4/5], Step [400/469], Loss: 0.0519, Accuracy: 97.66%\n",
            "Epoch [5/5], Step [100/469], Loss: 0.1462, Accuracy: 96.88%\n",
            "Epoch [5/5], Step [200/469], Loss: 0.0253, Accuracy: 99.22%\n",
            "Epoch [5/5], Step [300/469], Loss: 0.0771, Accuracy: 98.44%\n",
            "Epoch [5/5], Step [400/469], Loss: 0.0460, Accuracy: 98.44%\n"
          ]
        }
      ]
    },
    {
      "cell_type": "code",
      "source": [
        "model.eval()\n",
        "with torch.no_grad():\n",
        "    correct = 0\n",
        "    total = 0\n",
        "    for images, labels in test_loader:\n",
        "        outputs = model(images)\n",
        "        _, predicted = torch.max(outputs.data, 1)\n",
        "        total += labels.size(0)\n",
        "        correct += (predicted == labels).sum().item()\n",
        "\n",
        "    print('Test Accuracy : {} %'.format((correct / total) * 100))\n",
        "    correct = 0\n",
        "    total = 0\n",
        "    for images, labels in train_loader:\n",
        "        outputs = model(images)\n",
        "        _, predicted = torch.max(outputs.data, 1)\n",
        "        total += labels.size(0)\n",
        "        correct += (predicted == labels).sum().item()\n",
        "\n",
        "    print('Train Accuracy : {} %'.format((correct / total) * 100))"
      ],
      "metadata": {
        "colab": {
          "base_uri": "https://localhost:8080/"
        },
        "id": "1Ql6DJFsv_hD",
        "outputId": "422b0418-dc86-48e8-e68b-5524626588d3"
      },
      "execution_count": null,
      "outputs": [
        {
          "output_type": "stream",
          "name": "stdout",
          "text": [
            "Test Accuracy : 98.95 %\n",
            "Train Accuracy : 99.195 %\n"
          ]
        }
      ]
    },
    {
      "cell_type": "code",
      "source": [
        "fig = plt.figure()\n",
        "plt.xlabel('Batches', fontsize=14)\n",
        "plt.plot(loss_list, label = 'Training Cost')\n",
        "plt.plot(acc_list, label = 'Training Accuracy')\n",
        "plt.legend()"
      ],
      "metadata": {
        "colab": {
          "base_uri": "https://localhost:8080/",
          "height": 300
        },
        "id": "zFxNEqVFwP-w",
        "outputId": "b2c03697-377b-4ffe-dbe8-dc6ba222eca1"
      },
      "execution_count": null,
      "outputs": [
        {
          "output_type": "execute_result",
          "data": {
            "text/plain": [
              "<matplotlib.legend.Legend at 0x7fa96a857fd0>"
            ]
          },
          "metadata": {},
          "execution_count": 23
        },
        {
          "output_type": "display_data",
          "data": {
            "image/png": "[encoded data removed]",
            "text/plain": [
              "<Figure size 432x288 with 1 Axes>"
            ]
          },
          "metadata": {
            "needs_background": "light"
          }
        }
      ]
    },
    {
      "cell_type": "code",
      "source": [
        "test = DataLoader(dataset=test_dataset, batch_size=10000, shuffle=False)\n",
        "images, labels = next(iter(test))\n",
        "print(len(train_loader))\n",
        "i=247\n",
        "img = images[i]\n",
        "with torch.no_grad():\n",
        "    logps = model(images)\n",
        "plt.imshow(img[0])\n",
        "plt.show()\n",
        "ps = torch.exp(logps)\n",
        "probab = list(ps.numpy()[i])\n",
        "print(\"Predicted Digit =\", probab.index(max(probab)))"
      ],
      "metadata": {
        "colab": {
          "base_uri": "https://localhost:8080/",
          "height": 300
        },
        "id": "a_hy0w86wrX9",
        "outputId": "3b86b497-651e-4923-d50b-bdfb32cc21f3"
      },
      "execution_count": null,
      "outputs": [
        {
          "output_type": "stream",
          "name": "stdout",
          "text": [
            "469\n"
          ]
        },
        {
          "output_type": "display_data",
          "data": {
            "image/png": "[encoded data removed]",
            "text/plain": [
              "<Figure size 432x288 with 1 Axes>"
            ]
          },
          "metadata": {
            "needs_background": "light"
          }
        },
        {
          "output_type": "stream",
          "name": "stdout",
          "text": [
            "Predicted Digit = 4\n"
          ]
        }
      ]
    }
  ]
}